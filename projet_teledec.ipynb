{
 "cells": [
  {
   "cell_type": "code",
   "execution_count": 1,
   "id": "cd2cc6df-d15c-4bc4-a21f-4776df65e5b7",
   "metadata": {},
   "outputs": [],
   "source": [
    "from osgeo import gdal, ogr, osr\n",
    "import numpy as np\n",
    "import os"
   ]
  },
  {
   "cell_type": "code",
   "execution_count": null,
   "id": "a7d3bb88-8735-43bb-8c17-7ce293977423",
   "metadata": {},
   "outputs": [],
   "source": [
    "# Paramètres\n",
    "bands = [\"band2.tif\", \"band3.tif\", \"band4.tif\", \"band5.tif\", \"band6.tif\",\n",
    "         \"band7.tif\", \"band8.tif\", \"band9.tif\", \"band11.tif\", \"band12.tif\"]\n",
    "mask_path = \"masque_foret.tif\"\n",
    "shapefile_path = \"emprise_etude.shp\"\n",
    "output_path = \"output_image.tif\""
   ]
  }
 ],
 "metadata": {
  "kernelspec": {
   "display_name": "Python 3 (ipykernel)",
   "language": "python",
   "name": "python3"
  },
  "language_info": {
   "codemirror_mode": {
    "name": "ipython",
    "version": 3
   },
   "file_extension": ".py",
   "mimetype": "text/x-python",
   "name": "python",
   "nbconvert_exporter": "python",
   "pygments_lexer": "ipython3",
   "version": "3.12.6"
  }
 },
 "nbformat": 4,
 "nbformat_minor": 5
}
